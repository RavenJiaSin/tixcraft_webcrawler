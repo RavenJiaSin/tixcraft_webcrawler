{
 "cells": [
  {
   "cell_type": "markdown",
   "id": "3f438740",
   "metadata": {},
   "source": [
    "確認資料\n",
    "\n",
    "檢查你的前處理結果，是否每筆資料都有：\n",
    "\n",
    "特徵 X（數字、向量、圖片...）\n",
    "\n",
    "標籤 y（字母 A、B、C…）"
   ]
  },
  {
   "cell_type": "code",
   "execution_count": 59,
   "id": "c8889b27",
   "metadata": {},
   "outputs": [
    {
     "name": "stdout",
     "output_type": "stream",
     "text": [
      "字母數： 26\n",
      "前幾個字母資料夾： ['a', 'b', 'c', 'd', 'e', 'f', 'g', 'h', 'i', 'j']\n",
      "'a' 的樣本數： 151\n",
      "圖片大小： (37, 31)\n"
     ]
    }
   ],
   "source": [
    "import os\n",
    "from PIL import Image\n",
    "import numpy as np\n",
    "\n",
    "path = \"captcha_slice\"\n",
    "letters = os.listdir(path)\n",
    "print(\"字母數：\", len(letters))\n",
    "print(\"前幾個字母資料夾：\", letters[:10])\n",
    "\n",
    "# 選一個字母資料夾，例如 'a'\n",
    "sample_letter = letters[0]\n",
    "letter_path = os.path.join(path, sample_letter)\n",
    "images = os.listdir(letter_path)\n",
    "print(f\"'{sample_letter}' 的樣本數：\", len(images))\n",
    "\n",
    "# 讀取第一張圖片\n",
    "sample_file = os.path.join(letter_path, images[0])\n",
    "img = Image.open(sample_file)\n",
    "arr = np.array(img)\n",
    "print(\"圖片大小：\", arr.shape)\n"
   ]
  },
  {
   "cell_type": "markdown",
   "id": "72336a97",
   "metadata": {},
   "source": [
    "分資料\n",
    "\n",
    "把資料切成三份：\n",
    "\n",
    "訓練集（train）→ 給模型學習（約 80%）\n",
    "\n",
    "驗證集（valid）→ 幫你挑好模型參數（約 10%）\n",
    "\n",
    "測試集（test）→ 評估最終準確率（約 10%）"
   ]
  },
  {
   "cell_type": "code",
   "execution_count": 60,
   "id": "4eafa50c",
   "metadata": {},
   "outputs": [
    {
     "name": "stderr",
     "output_type": "stream",
     "text": [
      "100%|██████████| 26/26 [00:02<00:00, 11.60it/s]"
     ]
    },
    {
     "name": "stdout",
     "output_type": "stream",
     "text": [
      "分割完成！\n"
     ]
    },
    {
     "name": "stderr",
     "output_type": "stream",
     "text": [
      "\n"
     ]
    }
   ],
   "source": [
    "import os\n",
    "import shutil\n",
    "import random\n",
    "from tqdm import tqdm\n",
    "\n",
    "# 原始資料路徑\n",
    "source_dir = \"captcha_slice\"\n",
    "# 輸出目錄\n",
    "output_dir = \"data_split\"\n",
    "os.makedirs(output_dir, exist_ok=True)\n",
    "\n",
    "# 訓練、驗證、測試比例\n",
    "train_ratio = 0.8\n",
    "valid_ratio = 0.1\n",
    "test_ratio = 0.1\n",
    "\n",
    "# 固定隨機種子（確保可重現）\n",
    "random.seed(42)\n",
    "\n",
    "# 針對每個字母資料夾做切分\n",
    "for label in tqdm(os.listdir(source_dir)):\n",
    "    label_dir = os.path.join(source_dir, label)\n",
    "    if not os.path.isdir(label_dir):\n",
    "        continue\n",
    "\n",
    "    images = os.listdir(label_dir)\n",
    "    random.shuffle(images)\n",
    "\n",
    "    n_total = len(images)\n",
    "    n_train = int(n_total * train_ratio)\n",
    "    n_valid = int(n_total * valid_ratio)\n",
    "\n",
    "    # 切出三份\n",
    "    train_files = images[:n_train]\n",
    "    valid_files = images[n_train:n_train + n_valid]\n",
    "    test_files = images[n_train + n_valid:]\n",
    "\n",
    "    # 建立對應資料夾\n",
    "    for subset_name, subset_files in [(\"train\", train_files),\n",
    "                                      (\"valid\", valid_files),\n",
    "                                      (\"test\", test_files)]:\n",
    "        subset_dir = os.path.join(output_dir, subset_name, label)\n",
    "        os.makedirs(subset_dir, exist_ok=True)\n",
    "        for fname in subset_files:\n",
    "            src = os.path.join(label_dir, fname)\n",
    "            dst = os.path.join(subset_dir, fname)\n",
    "            shutil.copy2(src, dst)\n",
    "\n",
    "print(\"分割完成！\")\n"
   ]
  },
  {
   "cell_type": "markdown",
   "id": "8e072525",
   "metadata": {},
   "source": [
    "CNN 模型訓練"
   ]
  },
  {
   "cell_type": "markdown",
   "id": "c9331c0a",
   "metadata": {},
   "source": [
    "載入資料"
   ]
  },
  {
   "cell_type": "code",
   "execution_count": 61,
   "id": "97437900",
   "metadata": {},
   "outputs": [
    {
     "name": "stdout",
     "output_type": "stream",
     "text": [
      "訓練樣本：1392, 驗證樣本：166, 測試樣本：194\n",
      "類別數量：26, 類別名稱：['a', 'b', 'c', 'd', 'e', 'f', 'g', 'h', 'i', 'j', 'k', 'l', 'm', 'n', 'o', 'p', 'q', 'r', 's', 't', 'u', 'v', 'w', 'x', 'y', 'z']\n"
     ]
    }
   ],
   "source": [
    "import torch\n",
    "from torch.utils.data import DataLoader\n",
    "from torchvision import datasets, transforms\n",
    "\n",
    "# ================== 1) 資料增強 ==================\n",
    "train_transform = transforms.Compose([\n",
    "    transforms.Grayscale(num_output_channels=1),   # 建議字元用灰階\n",
    "    transforms.Resize((64, 64)),\n",
    "    transforms.RandomRotation(10),                 # ±10° 旋轉\n",
    "    transforms.RandomAffine(degrees=0, shear=8),   # 斜體/剪切\n",
    "    transforms.RandomPerspective(0.08, p=0.5),     # 透視扭曲\n",
    "    transforms.RandomAffine(degrees=0, translate=(0.1, 0.1)),  # 位移\n",
    "    transforms.ToTensor(),\n",
    "    transforms.Normalize((0.5,), (0.5,))           # 單通道標準化\n",
    "])\n",
    "\n",
    "# 驗證/測試：不要隨機變換，保持可重現\n",
    "test_transform = transforms.Compose([\n",
    "    transforms.Grayscale(num_output_channels=1),\n",
    "    transforms.Resize((64, 64)),\n",
    "    transforms.ToTensor(),\n",
    "    transforms.Normalize((0.5,), (0.5,))\n",
    "])\n",
    "\n",
    "# ================== 2) 建立 Dataset ==================\n",
    "train_data = datasets.ImageFolder('data_split/train', transform=train_transform)\n",
    "valid_data = datasets.ImageFolder('data_split/valid', transform=test_transform)\n",
    "test_data  = datasets.ImageFolder('data_split/test',  transform=test_transform)\n",
    "\n",
    "# ================== 3) 建立 DataLoader ==================\n",
    "pin_mem = torch.cuda.is_available()\n",
    "train_loader = DataLoader(train_data, batch_size=32, shuffle=True,  num_workers=0, pin_memory=pin_mem)\n",
    "valid_loader = DataLoader(valid_data, batch_size=32, shuffle=False, num_workers=0, pin_memory=pin_mem)\n",
    "test_loader  = DataLoader(test_data,  batch_size=32, shuffle=False, num_workers=0, pin_memory=pin_mem)\n",
    "\n",
    "print(f\"訓練樣本：{len(train_data)}, 驗證樣本：{len(valid_data)}, 測試樣本：{len(test_data)}\")\n",
    "print(f\"類別數量：{len(train_data.classes)}, 類別名稱：{train_data.classes}\")\n"
   ]
  },
  {
   "cell_type": "markdown",
   "id": "10a9b078",
   "metadata": {},
   "source": [
    "建立 CNN 模型"
   ]
  },
  {
   "cell_type": "code",
   "execution_count": null,
   "id": "b1aea334",
   "metadata": {},
   "outputs": [
    {
     "name": "stdout",
     "output_type": "stream",
     "text": [
      "✅ 5層卷積模型已載入： cpu\n"
     ]
    }
   ],
   "source": [
    "import torch\n",
    "import torch.nn as nn\n",
    "import torch.nn.functional as F\n",
    "\n",
    "# === 4層卷積版 ===\n",
    "class ImprovedCNN(nn.Module):\n",
    "    def __init__(self, num_classes):\n",
    "        super(ImprovedCNN, self).__init__()\n",
    "        # Conv blocks\n",
    "        self.conv1 = nn.Conv2d(1,   32, 3, padding=1)\n",
    "        self.bn1   = nn.BatchNorm2d(32)\n",
    "\n",
    "        self.conv2 = nn.Conv2d(32,  64, 3, padding=1)\n",
    "        self.bn2   = nn.BatchNorm2d(64)\n",
    "\n",
    "        self.conv3 = nn.Conv2d(64, 128, 3, padding=1)\n",
    "        self.bn3   = nn.BatchNorm2d(128)\n",
    "\n",
    "        self.conv4 = nn.Conv2d(128, 256, 3, padding=1)  # 第四層\n",
    "        self.bn4   = nn.BatchNorm2d(256)\n",
    "\n",
    "        self.pool = nn.MaxPool2d(2, 2)  # 每層後都池化\n",
    "\n",
    "        # 尺寸流：64→32→16→8→4，因此 in_features = 256*4*4\n",
    "        self.fc1 = nn.Linear(256 * 4 * 4, 256)\n",
    "        self.dropout = nn.Dropout(0.3)\n",
    "        self.fc2 = nn.Linear(256, num_classes)\n",
    "\n",
    "    def forward(self, x):\n",
    "        x = self.pool(F.relu(self.bn1(self.conv1(x))))  # 64 -> 32\n",
    "        x = self.pool(F.relu(self.bn2(self.conv2(x))))  # 32 -> 16\n",
    "        x = self.pool(F.relu(self.bn3(self.conv3(x))))  # 16 -> 8\n",
    "        x = self.pool(F.relu(self.bn4(self.conv4(x))))  # 8  -> 4\n",
    "        x = x.view(x.size(0), -1)                       # (B, 256*4*4)\n",
    "        x = self.dropout(F.relu(self.fc1(x)))\n",
    "        x = self.fc2(x)\n",
    "        return x\n",
    "\n",
    "# 建立模型\n",
    "num_classes = len(train_data.classes)\n",
    "model = ImprovedCNN(num_classes=num_classes).to(device)\n",
    "print(\"✅ 4層卷積模型已載入：\", device)\n"
   ]
  },
  {
   "cell_type": "markdown",
   "id": "98b532ed",
   "metadata": {},
   "source": [
    "訓練模型"
   ]
  },
  {
   "cell_type": "code",
   "execution_count": 78,
   "id": "c85c4b3b",
   "metadata": {},
   "outputs": [
    {
     "ename": "KeyboardInterrupt",
     "evalue": "",
     "output_type": "error",
     "traceback": [
      "\u001b[1;31m---------------------------------------------------------------------------\u001b[0m",
      "\u001b[1;31mKeyboardInterrupt\u001b[0m                         Traceback (most recent call last)",
      "Cell \u001b[1;32mIn[78], line 20\u001b[0m\n\u001b[0;32m     18\u001b[0m outputs \u001b[38;5;241m=\u001b[39m model(images)\n\u001b[0;32m     19\u001b[0m loss \u001b[38;5;241m=\u001b[39m criterion(outputs, labels)\n\u001b[1;32m---> 20\u001b[0m \u001b[43mloss\u001b[49m\u001b[38;5;241;43m.\u001b[39;49m\u001b[43mbackward\u001b[49m\u001b[43m(\u001b[49m\u001b[43m)\u001b[49m\n\u001b[0;32m     21\u001b[0m optimizer\u001b[38;5;241m.\u001b[39mstep()\n\u001b[0;32m     22\u001b[0m running_loss \u001b[38;5;241m+\u001b[39m\u001b[38;5;241m=\u001b[39m loss\u001b[38;5;241m.\u001b[39mitem()\n",
      "File \u001b[1;32mc:\\Users\\a1000\\OneDrive\\Desktop\\AIproject\\tixcraft_webcrawler-main\\.venv\\lib\\site-packages\\torch\\_tensor.py:647\u001b[0m, in \u001b[0;36mTensor.backward\u001b[1;34m(self, gradient, retain_graph, create_graph, inputs)\u001b[0m\n\u001b[0;32m    637\u001b[0m \u001b[38;5;28;01mif\u001b[39;00m has_torch_function_unary(\u001b[38;5;28mself\u001b[39m):\n\u001b[0;32m    638\u001b[0m     \u001b[38;5;28;01mreturn\u001b[39;00m handle_torch_function(\n\u001b[0;32m    639\u001b[0m         Tensor\u001b[38;5;241m.\u001b[39mbackward,\n\u001b[0;32m    640\u001b[0m         (\u001b[38;5;28mself\u001b[39m,),\n\u001b[1;32m   (...)\u001b[0m\n\u001b[0;32m    645\u001b[0m         inputs\u001b[38;5;241m=\u001b[39minputs,\n\u001b[0;32m    646\u001b[0m     )\n\u001b[1;32m--> 647\u001b[0m \u001b[43mtorch\u001b[49m\u001b[38;5;241;43m.\u001b[39;49m\u001b[43mautograd\u001b[49m\u001b[38;5;241;43m.\u001b[39;49m\u001b[43mbackward\u001b[49m\u001b[43m(\u001b[49m\n\u001b[0;32m    648\u001b[0m \u001b[43m    \u001b[49m\u001b[38;5;28;43mself\u001b[39;49m\u001b[43m,\u001b[49m\u001b[43m \u001b[49m\u001b[43mgradient\u001b[49m\u001b[43m,\u001b[49m\u001b[43m \u001b[49m\u001b[43mretain_graph\u001b[49m\u001b[43m,\u001b[49m\u001b[43m \u001b[49m\u001b[43mcreate_graph\u001b[49m\u001b[43m,\u001b[49m\u001b[43m \u001b[49m\u001b[43minputs\u001b[49m\u001b[38;5;241;43m=\u001b[39;49m\u001b[43minputs\u001b[49m\n\u001b[0;32m    649\u001b[0m \u001b[43m\u001b[49m\u001b[43m)\u001b[49m\n",
      "File \u001b[1;32mc:\\Users\\a1000\\OneDrive\\Desktop\\AIproject\\tixcraft_webcrawler-main\\.venv\\lib\\site-packages\\torch\\autograd\\__init__.py:354\u001b[0m, in \u001b[0;36mbackward\u001b[1;34m(tensors, grad_tensors, retain_graph, create_graph, grad_variables, inputs)\u001b[0m\n\u001b[0;32m    349\u001b[0m     retain_graph \u001b[38;5;241m=\u001b[39m create_graph\n\u001b[0;32m    351\u001b[0m \u001b[38;5;66;03m# The reason we repeat the same comment below is that\u001b[39;00m\n\u001b[0;32m    352\u001b[0m \u001b[38;5;66;03m# some Python versions print out the first line of a multi-line function\u001b[39;00m\n\u001b[0;32m    353\u001b[0m \u001b[38;5;66;03m# calls in the traceback and some print out the last line\u001b[39;00m\n\u001b[1;32m--> 354\u001b[0m \u001b[43m_engine_run_backward\u001b[49m\u001b[43m(\u001b[49m\n\u001b[0;32m    355\u001b[0m \u001b[43m    \u001b[49m\u001b[43mtensors\u001b[49m\u001b[43m,\u001b[49m\n\u001b[0;32m    356\u001b[0m \u001b[43m    \u001b[49m\u001b[43mgrad_tensors_\u001b[49m\u001b[43m,\u001b[49m\n\u001b[0;32m    357\u001b[0m \u001b[43m    \u001b[49m\u001b[43mretain_graph\u001b[49m\u001b[43m,\u001b[49m\n\u001b[0;32m    358\u001b[0m \u001b[43m    \u001b[49m\u001b[43mcreate_graph\u001b[49m\u001b[43m,\u001b[49m\n\u001b[0;32m    359\u001b[0m \u001b[43m    \u001b[49m\u001b[43minputs_tuple\u001b[49m\u001b[43m,\u001b[49m\n\u001b[0;32m    360\u001b[0m \u001b[43m    \u001b[49m\u001b[43mallow_unreachable\u001b[49m\u001b[38;5;241;43m=\u001b[39;49m\u001b[38;5;28;43;01mTrue\u001b[39;49;00m\u001b[43m,\u001b[49m\n\u001b[0;32m    361\u001b[0m \u001b[43m    \u001b[49m\u001b[43maccumulate_grad\u001b[49m\u001b[38;5;241;43m=\u001b[39;49m\u001b[38;5;28;43;01mTrue\u001b[39;49;00m\u001b[43m,\u001b[49m\n\u001b[0;32m    362\u001b[0m \u001b[43m\u001b[49m\u001b[43m)\u001b[49m\n",
      "File \u001b[1;32mc:\\Users\\a1000\\OneDrive\\Desktop\\AIproject\\tixcraft_webcrawler-main\\.venv\\lib\\site-packages\\torch\\autograd\\graph.py:829\u001b[0m, in \u001b[0;36m_engine_run_backward\u001b[1;34m(t_outputs, *args, **kwargs)\u001b[0m\n\u001b[0;32m    827\u001b[0m     unregister_hooks \u001b[38;5;241m=\u001b[39m _register_logging_hooks_on_whole_graph(t_outputs)\n\u001b[0;32m    828\u001b[0m \u001b[38;5;28;01mtry\u001b[39;00m:\n\u001b[1;32m--> 829\u001b[0m     \u001b[38;5;28;01mreturn\u001b[39;00m Variable\u001b[38;5;241m.\u001b[39m_execution_engine\u001b[38;5;241m.\u001b[39mrun_backward(  \u001b[38;5;66;03m# Calls into the C++ engine to run the backward pass\u001b[39;00m\n\u001b[0;32m    830\u001b[0m         t_outputs, \u001b[38;5;241m*\u001b[39margs, \u001b[38;5;241m*\u001b[39m\u001b[38;5;241m*\u001b[39mkwargs\n\u001b[0;32m    831\u001b[0m     )  \u001b[38;5;66;03m# Calls into the C++ engine to run the backward pass\u001b[39;00m\n\u001b[0;32m    832\u001b[0m \u001b[38;5;28;01mfinally\u001b[39;00m:\n\u001b[0;32m    833\u001b[0m     \u001b[38;5;28;01mif\u001b[39;00m attach_logging_hooks:\n",
      "\u001b[1;31mKeyboardInterrupt\u001b[0m: "
     ]
    }
   ],
   "source": [
    "import torch.optim as optim\n",
    "\n",
    "device = torch.device(\"cuda\" if torch.cuda.is_available() else \"cpu\")\n",
    "model.to(device)\n",
    "\n",
    "criterion = nn.CrossEntropyLoss()\n",
    "optimizer = optim.Adam(model.parameters(), lr=0.001)\n",
    "\n",
    "EPOCHS = 20\n",
    "\n",
    "for epoch in range(EPOCHS):\n",
    "    model.train()\n",
    "    running_loss = 0.0\n",
    "    for images, labels in train_loader:\n",
    "        images, labels = images.to(device), labels.to(device)\n",
    "\n",
    "        optimizer.zero_grad()\n",
    "        outputs = model(images)\n",
    "        loss = criterion(outputs, labels)\n",
    "        loss.backward()\n",
    "        optimizer.step()\n",
    "        running_loss += loss.item()\n",
    "\n",
    "    # 驗證階段\n",
    "    model.eval()\n",
    "    correct, total = 0, 0\n",
    "    with torch.no_grad():\n",
    "        for images, labels in valid_loader:\n",
    "            images, labels = images.to(device), labels.to(device)\n",
    "            outputs = model(images)\n",
    "            _, preds = torch.max(outputs, 1)\n",
    "            correct += (preds == labels).sum().item()\n",
    "            total += labels.size(0)\n",
    "\n",
    "    acc = correct / total\n",
    "    print(f\"Epoch {epoch+1}/{EPOCHS}, Loss: {running_loss/len(train_loader):.4f}, Val Acc: {acc:.4f}\")\n"
   ]
  },
  {
   "cell_type": "markdown",
   "id": "0402facf",
   "metadata": {},
   "source": [
    "儲存與測試模型"
   ]
  },
  {
   "cell_type": "code",
   "execution_count": 76,
   "id": "14436b54",
   "metadata": {},
   "outputs": [
    {
     "name": "stdout",
     "output_type": "stream",
     "text": [
      "測試集準確率：0.8041\n"
     ]
    }
   ],
   "source": [
    "# 儲存模型\n",
    "torch.save(model.state_dict(), \"cnn_model.pth\")\n",
    "\n",
    "# 測試集評估\n",
    "model.eval()\n",
    "correct, total = 0, 0\n",
    "with torch.no_grad():\n",
    "    for images, labels in test_loader:\n",
    "        images, labels = images.to(device), labels.to(device)\n",
    "        outputs = model(images)\n",
    "        _, preds = torch.max(outputs, 1)\n",
    "        correct += (preds == labels).sum().item()\n",
    "        total += labels.size(0)\n",
    "\n",
    "print(f\"測試集準確率：{correct / total:.4f}\")\n"
   ]
  },
  {
   "cell_type": "markdown",
   "id": "14e184f6",
   "metadata": {},
   "source": [
    "評估模型表現\n",
    "用剛剛訓練好的模型（cnn_model.pth）對測試集進行預測，並計算：\n",
    "\n",
    " 準確率 (Accuracy)\n",
    "\n",
    " F1-score（每個類別 + 平均）\n",
    "\n",
    " 混淆矩陣（看看哪些字母最容易搞混）"
   ]
  },
  {
   "cell_type": "code",
   "execution_count": null,
   "id": "f11599bc",
   "metadata": {},
   "outputs": [
    {
     "name": "stdout",
     "output_type": "stream",
     "text": [
      "Accuracy：0.8144\n",
      "Macro F1-score：0.7894\n",
      "a: 0.8000\n",
      "b: 0.6667\n",
      "c: 0.5000\n",
      "d: 0.7273\n",
      "e: 0.8667\n",
      "f: 0.5000\n",
      "g: 0.9091\n",
      "h: 0.8235\n",
      "i: 0.8108\n",
      "j: 0.5000\n",
      "k: 0.6667\n",
      "l: 0.7692\n",
      "m: 0.9091\n",
      "n: 0.7273\n",
      "o: 0.9286\n",
      "p: 0.8889\n",
      "q: 0.9091\n",
      "r: 0.6667\n",
      "s: 1.0000\n",
      "t: 0.8000\n",
      "u: 0.8824\n",
      "v: 0.7273\n",
      "w: 0.7143\n",
      "x: 0.9231\n",
      "y: 1.0000\n",
      "z: 0.9091\n"
     ]
    },
    {
     "data": {
      "image/png": "[encoded data removed]",
      "text/plain": [
       "<Figure size 1000x800 with 2 Axes>"
      ]
     },
     "metadata": {},
     "output_type": "display_data"
    },
    {
     "name": "stdout",
     "output_type": "stream",
     "text": [
      "\n",
      "分類報告：\n",
      "              precision    recall  f1-score   support\n",
      "\n",
      "           a       0.74      0.88      0.80        16\n",
      "           b       0.75      0.60      0.67         5\n",
      "           c       1.00      0.33      0.50         6\n",
      "           d       0.80      0.67      0.73         6\n",
      "           e       0.76      1.00      0.87        13\n",
      "           f       1.00      0.33      0.50         6\n",
      "           g       1.00      0.83      0.91         6\n",
      "           h       0.70      1.00      0.82         7\n",
      "           i       0.68      1.00      0.81        15\n",
      "           j       0.67      0.40      0.50         5\n",
      "           k       1.00      0.50      0.67         6\n",
      "           l       0.71      0.83      0.77         6\n",
      "           m       1.00      0.83      0.91         6\n",
      "           n       0.80      0.67      0.73         6\n",
      "           o       0.93      0.93      0.93        14\n",
      "           p       1.00      0.80      0.89         5\n",
      "           q       1.00      0.83      0.91         6\n",
      "           r       0.75      0.60      0.67         5\n",
      "           s       1.00      1.00      1.00         5\n",
      "           t       0.80      0.80      0.80         5\n",
      "           u       0.79      1.00      0.88        15\n",
      "           v       1.00      0.57      0.73         7\n",
      "           w       0.62      0.83      0.71         6\n",
      "           x       0.86      1.00      0.92         6\n",
      "           y       1.00      1.00      1.00         5\n",
      "           z       1.00      0.83      0.91         6\n",
      "\n",
      "    accuracy                           0.81       194\n",
      "   macro avg       0.86      0.77      0.79       194\n",
      "weighted avg       0.84      0.81      0.80       194\n",
      "\n"
     ]
    }
   ],
   "source": [
    "import torch\n",
    "from sklearn.metrics import accuracy_score, f1_score, confusion_matrix, classification_report\n",
    "import matplotlib.pyplot as plt\n",
    "import seaborn as sns\n",
    "import numpy as np\n",
    "import sys, subprocess\n",
    "\n",
    "# 升級安裝工具（可選，但建議）\n",
    "subprocess.check_call([sys.executable, \"-m\", \"pip\", \"install\", \"-U\", \"pip\", \"wheel\"])\n",
    "# 安裝 seaborn\n",
    "subprocess.check_call([sys.executable, \"-m\", \"pip\", \"install\", \"seaborn\"])\n",
    "\n",
    "device = torch.device(\"cuda\" if torch.cuda.is_available() else \"cpu\")\n",
    "\n",
    "# 載入模型（如果還沒載入）\n",
    "model.load_state_dict(torch.load(\"cnn_model.pth\", map_location=device))\n",
    "model.to(device)\n",
    "model.eval()\n",
    "\n",
    "# 收集真實與預測標籤\n",
    "all_preds = []\n",
    "all_labels = []\n",
    "\n",
    "with torch.no_grad():\n",
    "    for images, labels in test_loader:\n",
    "        images, labels = images.to(device), labels.to(device)\n",
    "        outputs = model(images)\n",
    "        _, preds = torch.max(outputs, 1)\n",
    "        all_preds.extend(preds.cpu().numpy())\n",
    "        all_labels.extend(labels.cpu().numpy())\n",
    "\n",
    "# 轉成 numpy array\n",
    "all_preds = np.array(all_preds)\n",
    "all_labels = np.array(all_labels)\n",
    "\n",
    "# ✅ 1️⃣ 準確率\n",
    "acc = accuracy_score(all_labels, all_preds)\n",
    "print(f\"Accuracy：{acc:.4f}\")\n",
    "\n",
    "# ✅ 2️⃣ F1-score\n",
    "f1_macro = f1_score(all_labels, all_preds, average='macro')\n",
    "f1_each = f1_score(all_labels, all_preds, average=None)\n",
    "print(f\"Macro F1-score：{f1_macro:.4f}\")\n",
    "\n",
    "# 顯示每個類別的分數\n",
    "classes = test_loader.dataset.classes\n",
    "for c, f1 in zip(classes, f1_each):\n",
    "    print(f\"{c}: {f1:.4f}\")\n",
    "\n",
    "# ✅ 3️⃣ 混淆矩陣\n",
    "cm = confusion_matrix(all_labels, all_preds)\n",
    "\n",
    "plt.figure(figsize=(10,8))\n",
    "sns.heatmap(cm, annot=True, fmt=\"d\", cmap=\"Blues\",\n",
    "            xticklabels=classes, yticklabels=classes)\n",
    "plt.xlabel(\"Predicted\")\n",
    "plt.ylabel(\"True\")\n",
    "plt.title(\"Confusion Matrix\")\n",
    "plt.show()\n",
    "\n",
    "# 額外：輸出詳細報告\n",
    "print(\"\\n分類報告\")\n",
    "print(classification_report(all_labels, all_preds, target_names=classes))\n"
   ]
  },
  {
   "cell_type": "code",
   "execution_count": null,
   "id": "6e22301d",
   "metadata": {},
   "outputs": [],
   "source": []
  }
 ],
 "metadata": {
  "kernelspec": {
   "display_name": ".venv",
   "language": "python",
   "name": "python3"
  },
  "language_info": {
   "codemirror_mode": {
    "name": "ipython",
    "version": 3
   },
   "file_extension": ".py",
   "mimetype": "text/x-python",
   "name": "python",
   "nbconvert_exporter": "python",
   "pygments_lexer": "ipython3",
   "version": "3.10.7"
  }
 },
 "nbformat": 4,
 "nbformat_minor": 5
}
