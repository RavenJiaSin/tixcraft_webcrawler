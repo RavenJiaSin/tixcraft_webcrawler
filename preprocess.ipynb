{
 "cells": [
  {
   "cell_type": "markdown",
   "id": "8c8a8a4b",
   "metadata": {},
   "source": [
    "# 資料預處理"
   ]
  },
  {
   "cell_type": "code",
   "execution_count": 178,
   "id": "3653ea99",
   "metadata": {},
   "outputs": [],
   "source": [
    "import cv2\n",
    "import numpy as np\n",
    "import matplotlib.pyplot as plt"
   ]
  },
  {
   "cell_type": "markdown",
   "id": "a627f219",
   "metadata": {},
   "source": [
    "## 二值化\n",
    "\n",
    "將原圖轉為黑白"
   ]
  },
  {
   "cell_type": "code",
   "execution_count": 179,
   "id": "e0ab7e9c",
   "metadata": {},
   "outputs": [],
   "source": [
    "def binarize_image(img):\n",
    "    \"\"\"\n",
    "    將灰階或 RGB 圖二值化 (Otsu)\n",
    "    img: np.array (灰階或 RGB)\n",
    "    回傳: binary (二值圖)\n",
    "    \"\"\"\n",
    "    if len(img.shape) == 3:  # RGB → 灰階\n",
    "        gray = cv2.cvtColor(img, cv2.COLOR_BGR2GRAY)\n",
    "    else:\n",
    "        gray = img\n",
    "    _, binary = cv2.threshold(gray, 0, 255, cv2.THRESH_BINARY + cv2.THRESH_OTSU)\n",
    "    \n",
    "    \n",
    "    return binary"
   ]
  },
  {
   "cell_type": "markdown",
   "id": "f18d3e8c",
   "metadata": {},
   "source": [
    "## 腐蝕"
   ]
  },
  {
   "cell_type": "code",
   "execution_count": 180,
   "id": "129ca0f4",
   "metadata": {},
   "outputs": [],
   "source": [
    "def erode_image(binary_img, kernel_size=(3,1), iterations=1):\n",
    "    \"\"\"\n",
    "    對二值圖做腐蝕\n",
    "    \"\"\"\n",
    "    kernel = cv2.getStructuringElement(cv2.MORPH_RECT, kernel_size)\n",
    "    eroded = cv2.erode(binary_img, kernel, iterations=iterations)\n",
    "    \n",
    "    return eroded\n"
   ]
  },
  {
   "cell_type": "markdown",
   "id": "9c317a98",
   "metadata": {},
   "source": [
    "Bounding box of white region"
   ]
  },
  {
   "cell_type": "code",
   "execution_count": 181,
   "id": "e8143e05",
   "metadata": {},
   "outputs": [],
   "source": [
    "def crop_white_region(binary_img):\n",
    "    \"\"\"\n",
    "    找出二值圖中白色區域的 bounding box 並裁切二值圖\n",
    "    binary_img: Erosion 後的二值圖\n",
    "    回傳:\n",
    "        cropped_binary: 裁切後的二值圖\n",
    "        bbox: (xmin, xmax, ymin, ymax)\n",
    "    \"\"\"\n",
    "    ys, xs = np.where(binary_img == 255)\n",
    "    if len(xs) > 0 and len(ys) > 0:\n",
    "        xmin, xmax = xs.min(), xs.max()\n",
    "        ymin, ymax = ys.min(), ys.max()\n",
    "        cropped_binary = binary_img[ymin:ymax+1, xmin:xmax+1]\n",
    "        # print(f\"xmin={xmin}, xmax={xmax}, ymin={ymin}, ymax={ymax}\")\n",
    "        return cropped_binary, (xmin, xmax, ymin, ymax)\n",
    "    else:\n",
    "        print(\"沒有偵測到白色區域\")\n",
    "        return binary_img, (0, binary_img.shape[1], 0, binary_img.shape[0])\n"
   ]
  },
  {
   "cell_type": "markdown",
   "id": "384cdde1",
   "metadata": {},
   "source": [
    "## 黏連字母自動定位與切分方法\n",
    "\n",
    "此方法用於處理驗證碼中可能黏連的字母，主要流程如下：\n",
    "\n",
    "1. **連通域定位**  \n",
    "   將驗證碼圖片二值化，利用連通元件分析（Connected Components Analysis, CCA）找到每個白色像素相連的區域。每個區域可能是一個字，也可能是多個黏在一起的字。計算每個區域的中心（centroid）作為原始中心點。\n",
    "\n",
    "2. **中心修正**  \n",
    "   計算每個連通域中所有白色像素到中心的最大距離 `max_distance`，並設定基準距離 `k`。  \n",
    "   - `max_distance <= 2k` → 單字  \n",
    "   - `2k < max_distance <= 3k` → 兩字黏連  \n",
    "   - `3k < max_distance <= 4k` → 三字黏連  \n",
    "   對多字黏連的區域，水平均分生成新的中心點，作為估計的每個字中心。\n",
    "\n",
    "3. **字母切分與 bounding box 生成**  \n",
    "   根據每個估計中心點建立矩形邊界框（bounding box）：  \n",
    "   - 單字母：使用原連通域邊界  \n",
    "   - 多字黏連：水平範圍均分，矩形框左右各半寬  \n",
    "   這些 bounding box 可以用於後續字母裁切或識別。\n",
    "\n",
    "> 總結：此方法結合連通域分析與距離推估，能自動處理黏連字母並定位每個字的位置，適合驗證碼自動分割。\n"
   ]
  },
  {
   "cell_type": "code",
   "execution_count": 182,
   "id": "53475f44",
   "metadata": {},
   "outputs": [],
   "source": [
    "def k_based_segmentation_with_merge(binary_img, k=20, h_thresh_ratio=0.4):\n",
    "    \"\"\"\n",
    "    binary_img: 裁切後二值圖\n",
    "    k: 字母大小基準距離\n",
    "    h_thresh_ratio: 小區塊高度閾值比，例如小於0.4倍最大高度視為小區塊\n",
    "    回傳:\n",
    "        all_boxes: 每個字母的 bounding box [(xmin, ymin, xmax, ymax)]\n",
    "    \"\"\"\n",
    "    num_labels, labels, stats, centroids = cv2.connectedComponentsWithStats(binary_img, connectivity=8)\n",
    "\n",
    "    boxes = []\n",
    "    small_blocks = []\n",
    "\n",
    "    # 先判斷高度閾值\n",
    "    heights = stats[1:, cv2.CC_STAT_HEIGHT]  # 忽略背景\n",
    "    if len(heights) == 0:\n",
    "        return []\n",
    "    h_thresh = h_thresh_ratio * heights.max()\n",
    "\n",
    "    # 分組：小區塊與正常區塊\n",
    "    for i in range(1, num_labels):\n",
    "        x, y, w, h, area = stats[i]\n",
    "        if h < h_thresh:\n",
    "            small_blocks.append((x, y, x+w, y+h))\n",
    "        else:\n",
    "            boxes.append([x, y, x+w, y+h])\n",
    "\n",
    "    # 合併小區塊到最近的大區塊\n",
    "    for sxmin, symin, sxmax, symax in small_blocks:\n",
    "        # 計算水平距離最近的大區塊\n",
    "        min_dist = float('inf')\n",
    "        target_idx = -1\n",
    "        for idx, (xmin, ymin, xmax, ymax) in enumerate(boxes):\n",
    "            # 水平距離\n",
    "            dist = abs((sxmin+sxmax)/2 - (xmin+xmax)/2)\n",
    "            if dist < min_dist:\n",
    "                min_dist = dist\n",
    "                target_idx = idx\n",
    "        if target_idx >= 0:\n",
    "            # 合併成矩形區塊\n",
    "            xmin, ymin, xmax, ymax = boxes[target_idx]\n",
    "            new_xmin = min(xmin, sxmin)\n",
    "            new_xmax = max(xmax, sxmax)\n",
    "            new_ymin = min(ymin, symin)\n",
    "            new_ymax = max(ymax, symax)\n",
    "            boxes[target_idx] = [new_xmin, new_ymin, new_xmax, new_ymax]\n",
    "\n",
    "    # 根據 k 值重新分割黏連字母\n",
    "    all_boxes = []\n",
    "    for xmin, ymin, xmax, ymax in boxes:\n",
    "        width = xmax - xmin\n",
    "        num_letters = max(1, int(np.ceil(width / k)))\n",
    "        if num_letters == 1:\n",
    "            all_boxes.append((xmin, ymin, xmax, ymax))\n",
    "        else:\n",
    "            new_centers_x = np.linspace(xmin, xmax, num_letters+2)[1:-1]\n",
    "            for nx in new_centers_x:\n",
    "                sub_xmin = int(nx - width/(2*num_letters))\n",
    "                sub_xmax = int(nx + width/(2*num_letters))\n",
    "                all_boxes.append((sub_xmin, ymin, sub_xmax, ymax))\n",
    "\n",
    "    return all_boxes"
   ]
  },
  {
   "cell_type": "code",
   "execution_count": 183,
   "id": "9e60f8e8",
   "metadata": {},
   "outputs": [],
   "source": [
    "def visualize_and_cut(cropped_img, char_boxes):\n",
    "    \"\"\"\n",
    "    cropped_img: 二值化、腐蝕後，經過白色區域裁切的圖像 (numpy array)\n",
    "    char_boxes: Cell4 返回的每個字 bounding box [(xmin, ymin, xmax, ymax)]\n",
    "    回傳: char_imgs (每個字的裁切圖列表)\n",
    "    \"\"\"\n",
    "    # 可視化\n",
    "    img_vis = cv2.cvtColor(cropped_img, cv2.COLOR_GRAY2RGB)  # 轉成彩色方便畫框\n",
    "    for (xmin, ymin, xmax, ymax) in char_boxes:\n",
    "        cv2.rectangle(img_vis, (xmin, ymin), (xmax, ymax), (0,255,0), 1)\n",
    "\n",
    "\n",
    "    # 裁切每個字符\n",
    "    char_imgs = [cropped_img[ymin:ymax, xmin:xmax] for (xmin, ymin, xmax, ymax) in char_boxes]\n",
    "    return char_imgs"
   ]
  },
  {
   "cell_type": "markdown",
   "id": "dd0f14fe",
   "metadata": {},
   "source": [
    "加上出血"
   ]
  },
  {
   "cell_type": "code",
   "execution_count": 184,
   "id": "d1485c94",
   "metadata": {},
   "outputs": [],
   "source": [
    "def add_padding(img, pad=2):\n",
    "    \"\"\"\n",
    "    img: 二值圖 (numpy array)\n",
    "    pad: 邊界出血大小 (像素)\n",
    "    \"\"\"\n",
    "    h, w = img.shape\n",
    "    padded = np.zeros((h+2*pad, w+2*pad), dtype=img.dtype)  # 黑色 padding\n",
    "    padded[pad:pad+h, pad:pad+w] = img\n",
    "    return padded"
   ]
  },
  {
   "cell_type": "markdown",
   "id": "57f3e9b5",
   "metadata": {},
   "source": [
    "DEMO"
   ]
  },
  {
   "cell_type": "code",
   "execution_count": 185,
   "id": "a02f37c5",
   "metadata": {},
   "outputs": [
    {
     "data": {
      "image/png": "[encoded data removed]",
      "text/plain": [
       "<Figure size 640x480 with 1 Axes>"
      ]
     },
     "metadata": {},
     "output_type": "display_data"
    },
    {
     "data": {
      "image/png": "[encoded data removed]",
      "text/plain": [
       "<Figure size 640x480 with 1 Axes>"
      ]
     },
     "metadata": {},
     "output_type": "display_data"
    },
    {
     "data": {
      "image/png": "[encoded data removed]",
      "text/plain": [
       "<Figure size 1200x500 with 1 Axes>"
      ]
     },
     "metadata": {},
     "output_type": "display_data"
    },
    {
     "data": {
      "image/png": "[encoded data removed]",
      "text/plain": [
       "<Figure size 1000x200 with 5 Axes>"
      ]
     },
     "metadata": {},
     "output_type": "display_data"
    }
   ],
   "source": [
    "img = cv2.imread(\"captcha_raw/behi.png\")\n",
    "\n",
    "img_prcd = binarize_image(img)\n",
    "plt.imshow(img_prcd, cmap='gray')\n",
    "plt.title(\"Binarized Image\")\n",
    "plt.axis(\"off\")\n",
    "plt.show()\n",
    "\n",
    "img_prcd = erode_image(img_prcd)\n",
    "plt.title(\"After Erosion\")\n",
    "plt.imshow(img_prcd, cmap='gray')\n",
    "plt.axis(\"off\")\n",
    "plt.show()\n",
    "\n",
    "img_prcd, bbox_crop = crop_white_region(img_prcd)\n",
    "char_boxes = k_based_segmentation_with_merge(img_prcd, k=22)\n",
    "\n",
    "char_imgs = visualize_and_cut(img_prcd, char_boxes)\n",
    "\n",
    "# 先可視化整張圖片與 bounding box\n",
    "img_vis = cv2.cvtColor(img_prcd, cv2.COLOR_GRAY2RGB)\n",
    "for (xmin, ymin, xmax, ymax) in char_boxes:\n",
    "    cv2.rectangle(img_vis, (xmin, ymin), (xmax, ymax), (0,255,0), 1)\n",
    "\n",
    "plt.figure(figsize=(12,5))\n",
    "plt.title(\"Bounding Boxes on Processed Image\")\n",
    "plt.imshow(img_vis)\n",
    "plt.axis(\"off\")\n",
    "plt.show()\n",
    "\n",
    "\n",
    "# 對每個裁切出的字符加 padding\n",
    "char_imgs_padded = [add_padding(char, pad=2) for char in char_imgs]\n",
    "\n",
    "# 可視化加 padding 後的每個字符\n",
    "num_chars = len(char_imgs_padded)\n",
    "plt.figure(figsize=(num_chars*2, 2))\n",
    "for i, char_img in enumerate(char_imgs_padded):\n",
    "    plt.subplot(1, num_chars, i+1)\n",
    "    plt.imshow(char_img, cmap='gray')\n",
    "    plt.axis(\"off\")\n",
    "plt.show()"
   ]
  },
  {
   "cell_type": "markdown",
   "id": "62d2a22e",
   "metadata": {},
   "source": [
    "批次處理"
   ]
  },
  {
   "cell_type": "code",
   "execution_count": 186,
   "id": "7254f80a",
   "metadata": {},
   "outputs": [],
   "source": [
    "import os\n",
    "from tqdm import tqdm\n",
    "\n",
    "def preprocess(raw_folder=\"captcha_raw\", save_folder=\"captcha_slicey\", k_init=22, pad=2, max_iter=5):\n",
    "    os.makedirs(save_folder, exist_ok=True)\n",
    "    \n",
    "    img_files = [f for f in os.listdir(raw_folder) if f.lower().endswith(\".png\")]\n",
    "    \n",
    "    for img_name in tqdm(img_files, desc=\"Processing Captchas\"):\n",
    "        img_path = os.path.join(raw_folder, img_name)\n",
    "        img = cv2.imread(img_path)\n",
    "        \n",
    "        # 流水線處理\n",
    "        img_prcd = binarize_image(img)\n",
    "        img_prcd = erode_image(img_prcd)\n",
    "        img_prcd, _ = crop_white_region(img_prcd)\n",
    "        \n",
    "        # 自動調整 k 值\n",
    "        k = k_init\n",
    "        target_chars = len(os.path.splitext(img_name)[0])\n",
    "        for _ in range(max_iter):\n",
    "            char_boxes = k_based_segmentation_with_merge(img_prcd, k=k)\n",
    "            if len(char_boxes) == target_chars:\n",
    "                break\n",
    "            elif len(char_boxes) > target_chars:\n",
    "                k += 1\n",
    "            else:\n",
    "                k = max(1, k-1)\n",
    "        \n",
    "        if len(char_boxes) != target_chars:\n",
    "            print(f\"[WARNING] {img_name} -> expected {target_chars} chars, got {len(char_boxes)}, final k={k}\")\n",
    "            continue\n",
    "        \n",
    "        # 按 x 座標排序\n",
    "        char_boxes_sorted = sorted(char_boxes, key=lambda x: x[0])\n",
    "        \n",
    "        # 切割並依字母儲存\n",
    "        for idx, (xmin, ymin, xmax, ymax) in enumerate(char_boxes_sorted):\n",
    "            char_img = img_prcd[ymin:ymax, xmin:xmax]\n",
    "            char_img = add_padding(char_img, pad=pad)\n",
    "            \n",
    "            letter = os.path.splitext(img_name)[0][idx]  # 對應答案\n",
    "            \n",
    "            # 建立子資料夾 a-z\n",
    "            letter_folder = os.path.join(save_folder, letter)\n",
    "            os.makedirs(letter_folder, exist_ok=True)\n",
    "            \n",
    "            save_name = f\"{os.path.splitext(img_name)[0]}_{letter}.png\"\n",
    "            save_path = os.path.join(letter_folder, save_name)\n",
    "            \n",
    "            cv2.imwrite(save_path, char_img)\n",
    "\n"
   ]
  },
  {
   "cell_type": "code",
   "execution_count": 188,
   "id": "da5a1089",
   "metadata": {},
   "outputs": [
    {
     "name": "stderr",
     "output_type": "stream",
     "text": [
      "Processing Captchas:   9%|▊         | 40/467 [00:00<00:02, 198.18it/s]"
     ]
    },
    {
     "name": "stdout",
     "output_type": "stream",
     "text": [
      "[WARNING] cdia.png -> expected 4 chars, got 5, final k=28\n"
     ]
    },
    {
     "name": "stderr",
     "output_type": "stream",
     "text": [
      "Processing Captchas:  68%|██████▊   | 318/467 [00:01<00:00, 206.83it/s]"
     ]
    },
    {
     "name": "stdout",
     "output_type": "stream",
     "text": [
      "[WARNING] qoho.png -> expected 4 chars, got 5, final k=32\n"
     ]
    },
    {
     "name": "stderr",
     "output_type": "stream",
     "text": [
      "Processing Captchas: 100%|██████████| 467/467 [00:02<00:00, 207.67it/s]\n"
     ]
    }
   ],
   "source": [
    "preprocess(raw_folder=\"captcha_raw\", save_folder=\"captcha_slice\", k_init=20, pad=2, max_iter=50)\n"
   ]
  }
 ],
 "metadata": {
  "kernelspec": {
   "display_name": ".tixcraftWC (3.10.7)",
   "language": "python",
   "name": "python3"
  },
  "language_info": {
   "codemirror_mode": {
    "name": "ipython",
    "version": 3
   },
   "file_extension": ".py",
   "mimetype": "text/x-python",
   "name": "python",
   "nbconvert_exporter": "python",
   "pygments_lexer": "ipython3",
   "version": "3.10.7"
  }
 },
 "nbformat": 4,
 "nbformat_minor": 5
}
